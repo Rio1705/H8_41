{
 "cells": [
  {
   "cell_type": "code",
   "execution_count": 14,
   "metadata": {},
   "outputs": [
    {
     "name": "stdout",
     "output_type": "stream",
     "text": [
      "oyee\n",
      "next\n",
      "yes! x>y\n",
      "iki cok\n",
      "djsdhfehfeh\n"
     ]
    }
   ],
   "source": [
    "x = 0\n",
    "y = 5\n",
    "\n",
    "if x<5:\n",
    "    print(\"oyee\")\n",
    "print(\"next\") # bukan 1 blok\n",
    "    \n",
    "if y<x:\n",
    "    print(\"oraaa\")\n",
    "    \n",
    "if True:\n",
    "    print(\"yes! x>y\")\n",
    "    \n",
    "if False:\n",
    "    print(\"cok\")\n",
    "print('iki cok') #bukan bagian dari false\n",
    "\n",
    "if x:\n",
    "    print(\"eruieuriueir\")\n",
    "    \n",
    "if y:\n",
    "    print('djsdhfehfeh')\n"
   ]
  },
  {
   "cell_type": "code",
   "execution_count": 13,
   "metadata": {},
   "outputs": [
    {
     "data": {
      "text/plain": [
       "False"
      ]
     },
     "execution_count": 13,
     "metadata": {},
     "output_type": "execute_result"
    }
   ],
   "source": [
    "bool(0)"
   ]
  },
  {
   "cell_type": "code",
   "execution_count": 12,
   "metadata": {},
   "outputs": [
    {
     "data": {
      "text/plain": [
       "True"
      ]
     },
     "execution_count": 12,
     "metadata": {},
     "output_type": "execute_result"
    }
   ],
   "source": [
    "bool(5)"
   ]
  },
  {
   "cell_type": "code",
   "execution_count": 18,
   "metadata": {},
   "outputs": [],
   "source": [
    "mylist = [\"foo\", \"bar\", \"baz\", \"qux\"]"
   ]
  },
  {
   "cell_type": "code",
   "execution_count": 23,
   "metadata": {},
   "outputs": [
    {
     "name": "stdout",
     "output_type": "stream",
     "text": [
      "True\n",
      "False\n",
      "oyeeeeeee\n",
      "betweeeeeeeen\n",
      "siuhfehfre3h\n",
      "aku masih ikut\n",
      "fuehfefe\n"
     ]
    }
   ],
   "source": [
    "print(\"foo\" in mylist)\n",
    "print(100 in mylist)\n",
    "\n",
    "if \"foo\" in mylist:\n",
    "    print(\"oyeeeeeee\")\n",
    "    \n",
    "    if 1>2:\n",
    "        print(\"ureyryer\")\n",
    "        \n",
    "    print(\"betweeeeeeeen\")\n",
    "    \n",
    "    if 1<2:\n",
    "        print(\"siuhfehfre3h\")\n",
    "        \n",
    "    print(\"aku masih ikut\")\n",
    "\n",
    "print(\"fuehfefe\")"
   ]
  },
  {
   "cell_type": "code",
   "execution_count": 29,
   "metadata": {},
   "outputs": [
    {
     "name": "stdout",
     "output_type": "stream",
     "text": [
      "ambil duit dlu di ATM\n"
     ]
    }
   ],
   "source": [
    "book_price = 5000\n",
    "mag_price = 3000\n",
    "money = 2000\n",
    "\n",
    "if money > book_price:\n",
    "    print('lets buy the book')\n",
    "elif money > mag_price:\n",
    "    print('beli majalah aja')\n",
    "else:  \n",
    "    print('ambil duit dlu di ATM')"
   ]
  },
  {
   "cell_type": "code",
   "execution_count": 33,
   "metadata": {},
   "outputs": [
    {
     "name": "stdout",
     "output_type": "stream",
     "text": [
      "1\n",
      "2\n",
      "3\n"
     ]
    }
   ],
   "source": [
    "if 'f' in \"foo\": print(1); print(2); print(3)\n"
   ]
  },
  {
   "cell_type": "code",
   "execution_count": 37,
   "metadata": {},
   "outputs": [
    {
     "name": "stdout",
     "output_type": "stream",
     "text": [
      "dshdhs\n"
     ]
    }
   ],
   "source": [
    "x = 2\n",
    "if x == 1: print(x)\n",
    "elif x ==2: print(\"dshdhs\") #pass bikin jalan tp belum ditulis\n",
    "else: print(\"uerefjdhf\")"
   ]
  },
  {
   "cell_type": "code",
   "execution_count": 35,
   "metadata": {},
   "outputs": [
    {
     "name": "stdout",
     "output_type": "stream",
     "text": [
      "lets go to the library\n"
     ]
    }
   ],
   "source": [
    "is_raining = True\n",
    "print('lets go to the', 'beach' if not is_raining else \"library\")"
   ]
  },
  {
   "cell_type": "code",
   "execution_count": 38,
   "metadata": {},
   "outputs": [],
   "source": [
    "pass"
   ]
  },
  {
   "cell_type": "code",
   "execution_count": 40,
   "metadata": {},
   "outputs": [
    {
     "name": "stdout",
     "output_type": "stream",
     "text": [
      "10\n",
      "9\n",
      "8\n",
      "7\n",
      "6\n",
      "5\n",
      "4\n",
      "3\n",
      "2\n",
      "1\n",
      "looping's stopped\n"
     ]
    }
   ],
   "source": [
    "n = 10\n",
    "while n > 0:\n",
    "    print(n)\n",
    "    n = n-1 #-=\n",
    "print(\"looping's stopped\")"
   ]
  },
  {
   "cell_type": "code",
   "execution_count": 41,
   "metadata": {},
   "outputs": [
    {
     "name": "stdout",
     "output_type": "stream",
     "text": [
      "1\n",
      "2\n",
      "3\n",
      "4\n",
      "5\n",
      "6\n",
      "7\n",
      "8\n",
      "9\n"
     ]
    }
   ],
   "source": [
    "n = 1\n",
    "while n < 10:\n",
    "    print(n)\n",
    "    n += 1\n"
   ]
  },
  {
   "cell_type": "code",
   "execution_count": 48,
   "metadata": {},
   "outputs": [
    {
     "name": "stdout",
     "output_type": "stream",
     "text": [
      "5\n",
      "4\n",
      "3\n",
      "2\n",
      "looping berhenti\n"
     ]
    }
   ],
   "source": [
    "x = 5\n",
    "while x>0:\n",
    "    print(x)\n",
    "    if x ==2:\n",
    "        break #keluar dari while\n",
    "    x-=1\n",
    "print('looping berhenti')"
   ]
  },
  {
   "cell_type": "code",
   "execution_count": 49,
   "metadata": {},
   "outputs": [
    {
     "name": "stdout",
     "output_type": "stream",
     "text": [
      "running\n",
      "4\n",
      "running\n",
      "running\n",
      "2\n",
      "running\n",
      "1\n",
      "running\n",
      "0\n"
     ]
    }
   ],
   "source": [
    "x = 5\n",
    "while x>0:\n",
    "    print('running')\n",
    "    x -= 1\n",
    "    if x == 3:\n",
    "        continue #skip tetapi gak keluar dari while\n",
    "        print(x)\n",
    "    print(x)\n",
    "    "
   ]
  },
  {
   "cell_type": "code",
   "execution_count": 47,
   "metadata": {},
   "outputs": [
    {
     "name": "stdout",
     "output_type": "stream",
     "text": [
      "5\n",
      "4\n",
      "3\n",
      "2\n"
     ]
    }
   ],
   "source": [
    "x = 5\n",
    "while x>0:\n",
    "    print(x)\n",
    "    if x ==2:\n",
    "        break\n",
    "    x-=1\n",
    "else:    \n",
    "    print('looping berhenti')\n",
    "print('fjdhfdhf')\n",
    "\n",
    "while n>0"
   ]
  },
  {
   "cell_type": "code",
   "execution_count": 51,
   "metadata": {},
   "outputs": [
    {
     "name": "stdout",
     "output_type": "stream",
     "text": [
      "4\n",
      "asuuuu\n",
      "3\n",
      "asuuuu\n",
      "2\n",
      "asuuuu\n",
      "1\n",
      "asuuuu\n",
      "0\n",
      "asuuuu\n"
     ]
    }
   ],
   "source": [
    "n = 5 \n",
    "while n >0: n -= 1; print(n); print('asuuuu')"
   ]
  },
  {
   "cell_type": "code",
   "execution_count": null,
   "metadata": {},
   "outputs": [],
   "source": []
  }
 ],
 "metadata": {
  "kernelspec": {
   "display_name": "Python 3",
   "language": "python",
   "name": "python3"
  },
  "language_info": {
   "codemirror_mode": {
    "name": "ipython",
    "version": 3
   },
   "file_extension": ".py",
   "mimetype": "text/x-python",
   "name": "python",
   "nbconvert_exporter": "python",
   "pygments_lexer": "ipython3",
   "version": "3.8.3"
  }
 },
 "nbformat": 4,
 "nbformat_minor": 4
}
