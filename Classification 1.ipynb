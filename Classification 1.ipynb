{
 "cells": [
  {
   "cell_type": "code",
   "execution_count": 58,
   "metadata": {},
   "outputs": [],
   "source": [
    "import numpy as np\n",
    "import pandas as pd\n",
    "import matplotlib.pyplot as plt\n",
    "from sklearn.linear_model import LogisticRegression\n",
    "from sklearn.metrics import classification_report, confusion_matrix\n",
    "from sklearn.datasets import load_digits, load_wine\n",
    "from sklearn.model_selection import train_test_split\n",
    "from sklearn.preprocessing import StandardScaler, LabelEncoder\n",
    "from sklearn.neighbors import KNeighborsClassifier"
   ]
  },
  {
   "cell_type": "code",
   "execution_count": 4,
   "metadata": {},
   "outputs": [
    {
     "name": "stdout",
     "output_type": "stream",
     "text": [
      "[[0]\n",
      " [1]\n",
      " [2]\n",
      " [3]\n",
      " [4]\n",
      " [5]\n",
      " [6]\n",
      " [7]\n",
      " [8]\n",
      " [9]] (10, 1)\n",
      "[0 0 0 0 1 1 1 1 1 1] (10,)\n",
      "target: ['not spam', 'not spam', 'not spam', 'not spam', 'spam', 'spam', 'spam', 'spam', 'spam', 'spam']\n",
      "{0: 'not spam', 1: 'spam'}\n",
      "{'not spam': 0, 'spam': 1}\n"
     ]
    }
   ],
   "source": [
    "x = np.arange(10).reshape(-1,1)\n",
    "y = np.array([0,0,0,0,1,1,1,1,1,1])\n",
    "class_name = ['not spam', 'spam']\n",
    "label_to_class = {\n",
    "    0: 'not spam',\n",
    "    1:'spam'\n",
    "}\n",
    "class_to_label = {\n",
    "    value: key\n",
    "    for key, value in label_to_class.items()\n",
    "}\n",
    "\n",
    "print(x, x.shape)\n",
    "print(y, y.shape)\n",
    "print('target:', [label_to_class[i] for i in y])\n",
    "print(label_to_class)\n",
    "print(class_to_label)"
   ]
  },
  {
   "cell_type": "code",
   "execution_count": 5,
   "metadata": {},
   "outputs": [
    {
     "data": {
      "text/plain": [
       "LogisticRegression(random_state=11, solver='liblinear')"
      ]
     },
     "execution_count": 5,
     "metadata": {},
     "output_type": "execute_result"
    }
   ],
   "source": [
    "#define model\n",
    "model = LogisticRegression(solver='liblinear', random_state=11)\n",
    "model"
   ]
  },
  {
   "cell_type": "code",
   "execution_count": 6,
   "metadata": {},
   "outputs": [
    {
     "data": {
      "text/plain": [
       "LogisticRegression(random_state=11, solver='liblinear')"
      ]
     },
     "execution_count": 6,
     "metadata": {},
     "output_type": "execute_result"
    }
   ],
   "source": [
    "model.fit(x,y)"
   ]
  },
  {
   "cell_type": "code",
   "execution_count": 7,
   "metadata": {},
   "outputs": [
    {
     "name": "stdout",
     "output_type": "stream",
     "text": [
      "classes: [0 1]\n",
      "weight: [[0.51491375]]\n",
      "bias: [-1.04608067]\n",
      "n iteration: [6]\n"
     ]
    }
   ],
   "source": [
    "print('classes:', model.classes_)\n",
    "print('weight:', model.coef_)\n",
    "print('bias:', model.intercept_)\n",
    "print('n iteration:', model.n_iter_)"
   ]
  },
  {
   "cell_type": "code",
   "execution_count": 10,
   "metadata": {},
   "outputs": [
    {
     "data": {
      "text/plain": [
       "array([[0.74002157, 0.25997843],\n",
       "       [0.62975524, 0.37024476],\n",
       "       [0.5040632 , 0.4959368 ],\n",
       "       [0.37785549, 0.62214451],\n",
       "       [0.26628093, 0.73371907],\n",
       "       [0.17821501, 0.82178499],\n",
       "       [0.11472079, 0.88527921],\n",
       "       [0.07186982, 0.92813018],\n",
       "       [0.04422513, 0.95577487],\n",
       "       [0.02690569, 0.97309431]])"
      ]
     },
     "execution_count": 10,
     "metadata": {},
     "output_type": "execute_result"
    }
   ],
   "source": [
    "#probability masuk ke kelas 0 ato 1\n",
    "model.predict_proba(x) "
   ]
  },
  {
   "cell_type": "code",
   "execution_count": 12,
   "metadata": {},
   "outputs": [
    {
     "name": "stdout",
     "output_type": "stream",
     "text": [
      "prediction: [0 0 0 1 1 1 1 1 1 1]\n",
      "target: [0 0 0 0 1 1 1 1 1 1]\n"
     ]
    }
   ],
   "source": [
    "prediction = model.predict(x)\n",
    "print('prediction:', prediction)\n",
    "print('target:', y)"
   ]
  },
  {
   "cell_type": "code",
   "execution_count": 13,
   "metadata": {},
   "outputs": [
    {
     "name": "stdout",
     "output_type": "stream",
     "text": [
      "score: 0.9\n"
     ]
    }
   ],
   "source": [
    "#accuracy\n",
    "model_score = model.score(x,y)\n",
    "print('score:', model_score) #3+6/10=0.9"
   ]
  },
  {
   "cell_type": "code",
   "execution_count": 14,
   "metadata": {},
   "outputs": [
    {
     "data": {
      "text/plain": [
       "array([[3, 1],\n",
       "       [0, 6]], dtype=int64)"
      ]
     },
     "execution_count": 14,
     "metadata": {},
     "output_type": "execute_result"
    }
   ],
   "source": [
    "confusion_matrix(y, prediction)\n",
    "#tn-fp\n",
    "#fn-tp"
   ]
  },
  {
   "cell_type": "code",
   "execution_count": 15,
   "metadata": {},
   "outputs": [],
   "source": [
    "#precision = tp/(tp+fp)\n",
    "#recall/sensitivity= tp/(fn+tp)\n",
    "#specifity=tn/(tn+fp)"
   ]
  },
  {
   "cell_type": "code",
   "execution_count": 16,
   "metadata": {},
   "outputs": [],
   "source": [
    "#ex: fraud detection --> classification"
   ]
  },
  {
   "cell_type": "code",
   "execution_count": 17,
   "metadata": {},
   "outputs": [],
   "source": [
    "#tp 30, tn 40, fp 5, fn 25\n",
    "#accuracy = 30+40/100=0.7\n",
    "#precision = 30/35\n",
    "#recall = 30/25+30 = 30/55"
   ]
  },
  {
   "cell_type": "code",
   "execution_count": 20,
   "metadata": {},
   "outputs": [
    {
     "data": {
      "image/png": "[encoded data removed]",
      "text/plain": [
       "<Figure size 504x504 with 1 Axes>"
      ]
     },
     "metadata": {
      "needs_background": "light"
     },
     "output_type": "display_data"
    }
   ],
   "source": [
    "cm = confusion_matrix(y, prediction)\n",
    "\n",
    "fig, ax = plt.subplots(figsize=(7,7))\n",
    "ax.imshow(cm)\n",
    "ax.grid(False)\n",
    "ax.xaxis.set(ticks=(0,1), ticklabels=('Pred 0s', 'Pred 1s'))\n",
    "ax.yaxis.set(ticks=(0,1), ticklabels=('Actual 0s', 'Actual 1s'))\n",
    "ax.set_ylim(1.5, -.5)\n",
    "for i in range(2):\n",
    "    for j in range(2):\n",
    "        ax.text(j, i, cm[i,j], ha='center', va='center', color='red')\n",
    "plt.show()"
   ]
  },
  {
   "cell_type": "code",
   "execution_count": 21,
   "metadata": {},
   "outputs": [
    {
     "name": "stdout",
     "output_type": "stream",
     "text": [
      "              precision    recall  f1-score   support\n",
      "\n",
      "           0       1.00      0.75      0.86         4\n",
      "           1       0.86      1.00      0.92         6\n",
      "\n",
      "    accuracy                           0.90        10\n",
      "   macro avg       0.93      0.88      0.89        10\n",
      "weighted avg       0.91      0.90      0.90        10\n",
      "\n"
     ]
    }
   ],
   "source": [
    "print(classification_report(y, prediction))"
   ]
  },
  {
   "cell_type": "code",
   "execution_count": 22,
   "metadata": {},
   "outputs": [],
   "source": [
    "#C regularization, makin gede nilai C membuat model makin akurat"
   ]
  },
  {
   "cell_type": "code",
   "execution_count": 26,
   "metadata": {},
   "outputs": [],
   "source": [
    "X, y = load_digits(return_X_y=True)"
   ]
  },
  {
   "cell_type": "code",
   "execution_count": 27,
   "metadata": {},
   "outputs": [
    {
     "name": "stdout",
     "output_type": "stream",
     "text": [
      "dataset shape: (1797, 64)\n",
      "target shape: (1797,)\n"
     ]
    }
   ],
   "source": [
    "print('dataset shape:', X.shape)\n",
    "print('target shape:', y.shape)"
   ]
  },
  {
   "cell_type": "code",
   "execution_count": 29,
   "metadata": {},
   "outputs": [
    {
     "name": "stdout",
     "output_type": "stream",
     "text": [
      "[[ 0.  0.  5. ...  0.  0.  0.]\n",
      " [ 0.  0.  0. ... 10.  0.  0.]\n",
      " [ 0.  0.  0. ... 16.  9.  0.]\n",
      " ...\n",
      " [ 0.  0.  1. ...  6.  0.  0.]\n",
      " [ 0.  0.  2. ... 12.  0.  0.]\n",
      " [ 0.  0. 10. ... 12.  1.  0.]]\n"
     ]
    }
   ],
   "source": [
    "print(X)"
   ]
  },
  {
   "cell_type": "code",
   "execution_count": 30,
   "metadata": {},
   "outputs": [
    {
     "name": "stdout",
     "output_type": "stream",
     "text": [
      "[0 1 2 ... 8 9 8]\n"
     ]
    }
   ],
   "source": [
    "print(y)"
   ]
  },
  {
   "cell_type": "code",
   "execution_count": 31,
   "metadata": {},
   "outputs": [
    {
     "name": "stdout",
     "output_type": "stream",
     "text": [
      "training set shape: (1437, 64)\n",
      "test set shape: (360, 64)\n"
     ]
    }
   ],
   "source": [
    "X_train, X_test, y_train, y_test = train_test_split(\n",
    "    X, y, test_size=0.2, random_state=111\n",
    ")\n",
    "\n",
    "print('training set shape:', X_train.shape)\n",
    "print('test set shape:', X_test.shape)"
   ]
  },
  {
   "cell_type": "code",
   "execution_count": 32,
   "metadata": {},
   "outputs": [
    {
     "name": "stdout",
     "output_type": "stream",
     "text": [
      "before scaling data:\n",
      "[[ 0.  0.  3. 15. 16. 16. 12.  0.  0.  0. 12. 12.  7. 16.  6.  0.  0.  4.\n",
      "  12.  0.  9. 13.  0.  0.  0.  0.  1.  1. 13.  7.  0.  0.  0.  0.  8. 13.\n",
      "  16. 16.  6.  0.  0.  0. 12. 15. 12.  6.  1.  0.  0.  0.  0. 15.  5.  0.\n",
      "   0.  0.  0.  0.  3. 16.  2.  0.  0.  0.]\n",
      " [ 0.  2.  9. 11. 12. 15.  6.  0.  0.  6. 16.  9.  8.  8.  1.  0.  0.  4.\n",
      "  13.  0.  0.  0.  0.  0.  0.  4. 16. 12. 11.  5.  0.  0.  0.  1.  5.  4.\n",
      "   8. 14.  5.  0.  0.  0.  0.  0.  0.  8.  8.  0.  0.  1.  6.  4.  5. 15.\n",
      "   3.  0.  0.  3. 16. 16. 16.  8.  0.  0.]\n",
      " [ 0.  0.  6. 12. 16. 10.  0.  0.  0.  4. 15.  8. 12. 14.  0.  0.  0.  0.\n",
      "   0.  0. 13.  8.  0.  0.  0.  0.  0.  6. 14.  1.  0.  0.  0.  0.  0.  5.\n",
      "  15.  8.  0.  0.  0.  0.  0.  0.  2. 15.  5.  0.  0.  0.  1.  4.  5. 15.\n",
      "   8.  0.  0.  0.  5. 16. 14.  9.  1.  0.]\n",
      " [ 0.  0.  5. 16. 16. 10.  0.  0.  0.  2. 16. 14. 14. 14.  0.  0.  0.  2.\n",
      "  14.  4. 14. 10.  0.  0.  0.  0.  0.  8. 16.  8.  0.  0.  0.  0.  0.  0.\n",
      "   8. 16.  6.  0.  0.  0.  0.  0.  0. 12. 13.  0.  0.  0.  7. 11.  8. 16.\n",
      "  11.  0.  0.  0.  8. 16. 16. 10.  1.  0.]\n",
      " [ 0.  0.  3. 13. 16. 15.  6.  0.  0.  0. 13. 13.  9. 16. 10.  0.  0.  0.\n",
      "  16.  9.  0. 14.  6.  0.  0.  0. 14.  2.  6. 15.  0.  0.  0.  0.  0.  5.\n",
      "  15. 15.  6.  0.  0.  0.  0. 16. 15. 10.  2.  0.  0.  0.  0. 13. 11.  0.\n",
      "   0.  0.  0.  0.  4. 16.  7.  0.  0.  0.]]\n",
      "[[ 0.  0.  4. 16. 16. 16. 12.  0.  0.  0.  4. 12. 11. 14. 13.  0.  0.  0.\n",
      "   0.  0.  0. 15.  9.  0.  0.  0.  2.  8. 10. 16.  9.  0.  0.  0.  7. 13.\n",
      "  16. 14.  5.  0.  0.  0.  0.  3. 16.  5.  0.  0.  0.  0.  0. 10. 15.  0.\n",
      "   0.  0.  0.  0.  3. 16.  9.  0.  0.  0.]\n",
      " [ 0.  0.  0. 10. 13.  0.  0.  0.  0.  0.  0. 13. 16.  5.  0.  0.  0.  0.\n",
      "   0. 16. 16.  4.  0.  0.  0.  0.  3. 16. 16.  7.  0.  0.  0.  0.  7. 16.\n",
      "  16.  9.  0.  0.  0.  0.  9. 16. 16. 10.  0.  0.  0.  0. 10. 16. 16. 14.\n",
      "   0.  0.  0.  0.  1.  5.  7. 15.  8.  0.]\n",
      " [ 0.  0.  7. 16. 16.  3.  0.  0.  0.  7. 16.  9. 14.  7.  0.  0.  0. 10.\n",
      "   9.  0. 14.  5.  0.  0.  0.  3.  3.  4. 16.  2.  0.  0.  0.  0.  0. 12.\n",
      "  11.  0.  0.  0.  0.  0.  6. 16.  3.  0.  0.  0.  0.  0. 12. 15.  8.  8.\n",
      "   3.  0.  0.  0. 10. 16. 16. 16.  9.  0.]\n",
      " [ 0.  0.  8. 16.  6.  3.  0.  0.  0.  2. 13.  5. 10. 14.  0.  0.  0.  4.\n",
      "  14.  1.  9. 16.  0.  0.  0.  0. 12. 13.  8. 13.  0.  0.  0.  0.  0.  3.\n",
      "   0. 11.  2.  0.  0.  0.  0.  0.  0. 12.  2.  0.  0.  0.  4.  1.  0. 14.\n",
      "   1.  0.  0.  0.  6. 15. 16. 10.  0.  0.]\n",
      " [ 0.  0.  7. 12. 16.  9.  0.  0.  0.  4. 16.  6.  7.  3.  0.  0.  0.  4.\n",
      "  16.  2.  8.  3.  0.  0.  0.  7. 16. 15. 13. 16.  3.  0.  0.  5. 11.  1.\n",
      "   1. 16.  8.  0.  0.  0.  0.  0.  7. 16.  0.  0.  0.  0.  0. 10. 16.  6.\n",
      "   0.  0.  0.  0. 10. 11.  4.  0.  0.  0.]]\n",
      "after scaling data:\n",
      "[[ 0.00000000e+00 -3.35150624e-01 -4.73128609e-01  7.43064836e-01\n",
      "   9.70988363e-01  1.81050738e+00  3.22283070e+00 -1.29737637e-01\n",
      "  -5.01149787e-02 -6.34247931e-01  2.72410162e-01  3.47599586e-04\n",
      "  -6.94511047e-01  1.28981872e+00  1.13866717e+00 -1.32944585e-01\n",
      "  -2.63889907e-02  3.92196637e-01  3.44973933e-01 -1.20956234e+00\n",
      "   3.04876340e-01  8.34717807e-01 -5.46683761e-01 -1.13506694e-01\n",
      "  -2.63889907e-02 -7.85595556e-01 -1.30870879e+00 -1.33156188e+00\n",
      "   5.00996086e-01 -9.05352464e-02 -6.26915500e-01 -5.28331981e-02\n",
      "   0.00000000e+00 -6.63580903e-01  6.25443843e-02  6.24184923e-01\n",
      "   9.58805678e-01  1.23024481e+00  8.84774018e-01  0.00000000e+00\n",
      "  -5.18044323e-02 -5.24481863e-01  7.94217140e-01  1.21609910e+00\n",
      "   6.90955808e-01 -3.93299947e-01 -5.74512958e-01 -8.71856088e-02\n",
      "  -3.96300945e-02 -4.01377453e-01 -1.33698248e+00  1.04098390e+00\n",
      "  -8.49792425e-01 -1.45401261e+00 -7.64883609e-01 -2.10910431e-01\n",
      "  -2.63889907e-02 -3.02408810e-01 -5.10857985e-01  8.82811316e-01\n",
      "  -2.02856547e+00 -1.14758563e+00 -4.99881876e-01 -2.03599687e-01]\n",
      " [ 0.00000000e+00  1.88425696e+00  7.93739362e-01 -2.08190549e-01\n",
      "   4.09365199e-02  1.63382153e+00  1.40939689e+00 -1.29737637e-01\n",
      "  -5.01149787e-02  1.25208724e+00  1.01874649e+00 -7.48903309e-01\n",
      "  -4.84579963e-01 -3.06689463e-02 -2.44013854e-01 -1.32944585e-01\n",
      "  -2.63889907e-02  3.92196637e-01  5.22590393e-01 -1.20956234e+00\n",
      "  -1.14794816e+00 -1.26060111e+00 -5.46683761e-01 -1.13506694e-01\n",
      "  -2.63889907e-02  4.78217278e-01  1.11143689e+00  5.41369126e-01\n",
      "   1.73233111e-01 -4.31108935e-01 -6.26915500e-01 -5.28331981e-02\n",
      "   0.00000000e+00 -3.76535221e-01 -4.06375339e-01 -8.09921244e-01\n",
      "  -3.84410271e-01  8.91509074e-01  5.99638278e-01  0.00000000e+00\n",
      "  -5.18044323e-02 -5.24481863e-01 -1.03795415e+00 -1.11768082e+00\n",
      "  -1.21725078e+00 -4.16060927e-02  1.04245007e+00 -8.71856088e-02\n",
      "  -3.96300945e-02  1.70824333e-01 -2.77473018e-01 -1.07186054e+00\n",
      "  -8.49792425e-01  1.02433958e+00 -1.54816405e-01 -2.10910431e-01\n",
      "  -2.63889907e-02  2.98143093e+00  2.03335370e+00  8.82811316e-01\n",
      "   8.45830932e-01  2.20094694e-01 -4.99881876e-01 -2.03599687e-01]\n",
      " [ 0.00000000e+00 -3.35150624e-01  1.60305377e-01  2.96232975e-02\n",
      "   9.70988363e-01  7.50392295e-01 -4.04036923e-01 -1.29737637e-01\n",
      "  -5.01149787e-02  6.23308850e-01  8.32162406e-01 -9.98653611e-01\n",
      "   3.55144374e-01  9.59696804e-01 -5.20550059e-01 -1.32944585e-01\n",
      "  -2.63889907e-02 -7.34413192e-01 -1.78642359e+00 -1.20956234e+00\n",
      "   9.50576120e-01  2.88259173e-02 -5.46683761e-01 -1.13506694e-01\n",
      "  -2.63889907e-02 -7.85595556e-01 -1.47005184e+00 -4.80229605e-01\n",
      "   6.64877574e-01 -1.11225631e+00 -6.26915500e-01 -5.28331981e-02\n",
      "   0.00000000e+00 -6.63580903e-01 -1.18790821e+00 -6.50576114e-01\n",
      "   7.90903685e-01 -1.24698123e-01 -8.26040421e-01  0.00000000e+00\n",
      "  -5.18044323e-02 -5.24481863e-01 -1.03795415e+00 -1.11768082e+00\n",
      "  -8.99216351e-01  1.18932240e+00  3.49465913e-01 -8.71856088e-02\n",
      "  -3.96300945e-02 -4.01377453e-01 -1.16039757e+00 -1.07186054e+00\n",
      "  -8.49792425e-01  1.02433958e+00  8.61962268e-01 -2.10910431e-01\n",
      "  -2.63889907e-02 -3.02408810e-01 -1.19440803e-01  8.82811316e-01\n",
      "   4.35202875e-01  3.91054734e-01 -2.57938375e-01 -2.03599687e-01]\n",
      " [ 0.00000000e+00 -3.35150624e-01 -5.08392853e-02  9.80878682e-01\n",
      "   9.70988363e-01  7.50392295e-01 -4.04036923e-01 -1.29737637e-01\n",
      "  -5.01149787e-02 -5.46954062e-03  1.01874649e+00  4.99848205e-01\n",
      "   7.75006542e-01  9.59696804e-01 -5.20550059e-01 -1.32944585e-01\n",
      "  -2.63889907e-02 -1.71108278e-01  7.00206854e-01 -5.15485837e-01\n",
      "   1.11200106e+00  3.51182673e-01 -5.46683761e-01 -1.13506694e-01\n",
      "  -2.63889907e-02 -7.85595556e-01 -1.47005184e+00 -1.39696695e-01\n",
      "   9.92640549e-01  7.97515979e-02 -6.26915500e-01 -5.28331981e-02\n",
      "   0.00000000e+00 -6.63580903e-01 -1.18790821e+00 -1.44730176e+00\n",
      "  -3.84410271e-01  1.23024481e+00  8.84774018e-01  0.00000000e+00\n",
      "  -5.18044323e-02 -5.24481863e-01 -1.03795415e+00 -1.11768082e+00\n",
      "  -1.21725078e+00  6.61781616e-01  2.19742365e+00 -8.71856088e-02\n",
      "  -3.96300945e-02 -4.01377453e-01 -1.00888108e-01  2.72676831e-01\n",
      "  -2.85315515e-01  1.18956306e+00  1.47202947e+00 -2.10910431e-01\n",
      "  -2.63889907e-02 -3.02408810e-01  4.67684969e-01  8.82811316e-01\n",
      "   8.45830932e-01  5.62014774e-01 -2.57938375e-01 -2.03599687e-01]\n",
      " [ 0.00000000e+00 -3.35150624e-01 -4.73128609e-01  2.67437144e-01\n",
      "   9.70988363e-01  1.63382153e+00  1.40939689e+00 -1.29737637e-01\n",
      "  -5.01149787e-02 -6.34247931e-01  4.58994243e-01  2.50097902e-01\n",
      "  -2.74648878e-01  1.28981872e+00  2.24481199e+00 -1.32944585e-01\n",
      "  -2.63889907e-02 -7.34413192e-01  1.05543978e+00  3.52109792e-01\n",
      "  -1.14794816e+00  9.95896185e-01  1.29524957e+00 -1.13506694e-01\n",
      "  -2.63889907e-02 -7.85595556e-01  7.88750795e-01 -1.16129543e+00\n",
      "  -6.46174328e-01  1.27175951e+00 -6.26915500e-01 -5.28331981e-02\n",
      "   0.00000000e+00 -6.63580903e-01 -1.18790821e+00 -6.50576114e-01\n",
      "   7.90903685e-01  1.06087694e+00  8.84774018e-01  0.00000000e+00\n",
      "  -5.18044323e-02 -5.24481863e-01 -1.03795415e+00  1.37168442e+00\n",
      "   1.16800746e+00  3.10087761e-01 -3.43518241e-01 -8.71856088e-02\n",
      "  -3.96300945e-02 -4.01377453e-01 -1.33698248e+00  6.56830367e-01\n",
      "   2.79161394e-01 -1.45401261e+00 -7.64883609e-01 -2.10910431e-01\n",
      "  -2.63889907e-02 -3.02408810e-01 -3.15149394e-01  8.82811316e-01\n",
      "  -1.00199533e+00 -1.14758563e+00 -4.99881876e-01 -2.03599687e-01]]\n",
      "[[ 0.  0.  4. 16. 16. 16. 12.  0.  0.  0.  4. 12. 11. 14. 13.  0.  0.  0.\n",
      "   0.  0.  0. 15.  9.  0.  0.  0.  2.  8. 10. 16.  9.  0.  0.  0.  7. 13.\n",
      "  16. 14.  5.  0.  0.  0.  0.  3. 16.  5.  0.  0.  0.  0.  0. 10. 15.  0.\n",
      "   0.  0.  0.  0.  3. 16.  9.  0.  0.  0.]\n",
      " [ 0.  0.  0. 10. 13.  0.  0.  0.  0.  0.  0. 13. 16.  5.  0.  0.  0.  0.\n",
      "   0. 16. 16.  4.  0.  0.  0.  0.  3. 16. 16.  7.  0.  0.  0.  0.  7. 16.\n",
      "  16.  9.  0.  0.  0.  0.  9. 16. 16. 10.  0.  0.  0.  0. 10. 16. 16. 14.\n",
      "   0.  0.  0.  0.  1.  5.  7. 15.  8.  0.]\n",
      " [ 0.  0.  7. 16. 16.  3.  0.  0.  0.  7. 16.  9. 14.  7.  0.  0.  0. 10.\n",
      "   9.  0. 14.  5.  0.  0.  0.  3.  3.  4. 16.  2.  0.  0.  0.  0.  0. 12.\n",
      "  11.  0.  0.  0.  0.  0.  6. 16.  3.  0.  0.  0.  0.  0. 12. 15.  8.  8.\n",
      "   3.  0.  0.  0. 10. 16. 16. 16.  9.  0.]\n",
      " [ 0.  0.  8. 16.  6.  3.  0.  0.  0.  2. 13.  5. 10. 14.  0.  0.  0.  4.\n",
      "  14.  1.  9. 16.  0.  0.  0.  0. 12. 13.  8. 13.  0.  0.  0.  0.  0.  3.\n",
      "   0. 11.  2.  0.  0.  0.  0.  0.  0. 12.  2.  0.  0.  0.  4.  1.  0. 14.\n",
      "   1.  0.  0.  0.  6. 15. 16. 10.  0.  0.]\n",
      " [ 0.  0.  7. 12. 16.  9.  0.  0.  0.  4. 16.  6.  7.  3.  0.  0.  0.  4.\n",
      "  16.  2.  8.  3.  0.  0.  0.  7. 16. 15. 13. 16.  3.  0.  0.  5. 11.  1.\n",
      "   1. 16.  8.  0.  0.  0.  0.  0.  7. 16.  0.  0.  0.  0.  0. 10. 16.  6.\n",
      "   0.  0.  0.  0. 10. 11.  4.  0.  0.  0.]]\n"
     ]
    }
   ],
   "source": [
    "print('before scaling data:')\n",
    "print(X_train[:5])\n",
    "print(X_test[:5])\n",
    "\n",
    "scaler = StandardScaler()\n",
    "X_train = scaler.fit_transform(X_train)\n",
    "x_test = scaler.transform(X_test)\n",
    "\n",
    "print('after scaling data:')\n",
    "print(X_train[:5])\n",
    "print(X_test[:5])"
   ]
  },
  {
   "cell_type": "code",
   "execution_count": 33,
   "metadata": {},
   "outputs": [
    {
     "data": {
      "text/plain": [
       "LogisticRegression(C=0.05, multi_class='ovr', random_state=111,\n",
       "                   solver='liblinear')"
      ]
     },
     "execution_count": 33,
     "metadata": {},
     "output_type": "execute_result"
    }
   ],
   "source": [
    "model = LogisticRegression(solver='liblinear', C=0.05, multi_class='ovr', random_state=111)\n",
    "model.fit(X_train, y_train)"
   ]
  },
  {
   "cell_type": "code",
   "execution_count": 35,
   "metadata": {},
   "outputs": [
    {
     "name": "stdout",
     "output_type": "stream",
     "text": [
      "--training set performance--\n",
      "              precision    recall  f1-score   support\n",
      "\n",
      "           0       0.99      1.00      0.99       142\n",
      "           1       0.93      0.97      0.95       143\n",
      "           2       0.97      1.00      0.99       145\n",
      "           3       0.99      0.97      0.98       148\n",
      "           4       1.00      0.98      0.99       143\n",
      "           5       0.97      0.98      0.97       147\n",
      "           6       0.99      0.99      0.99       143\n",
      "           7       0.97      0.99      0.98       141\n",
      "           8       0.95      0.89      0.92       138\n",
      "           9       0.93      0.93      0.93       147\n",
      "\n",
      "    accuracy                           0.97      1437\n",
      "   macro avg       0.97      0.97      0.97      1437\n",
      "weighted avg       0.97      0.97      0.97      1437\n",
      "\n",
      "--test set performance\n",
      "              precision    recall  f1-score   support\n",
      "\n",
      "           0       1.00      0.97      0.99        36\n",
      "           1       0.82      0.85      0.84        39\n",
      "           2       1.00      0.97      0.98        32\n",
      "           3       1.00      0.80      0.89        35\n",
      "           4       1.00      0.71      0.83        38\n",
      "           5       0.97      0.89      0.93        35\n",
      "           6       1.00      0.95      0.97        38\n",
      "           7       1.00      0.89      0.94        38\n",
      "           8       0.51      1.00      0.68        36\n",
      "           9       0.93      0.76      0.83        33\n",
      "\n",
      "    accuracy                           0.88       360\n",
      "   macro avg       0.92      0.88      0.89       360\n",
      "weighted avg       0.92      0.88      0.89       360\n",
      "\n"
     ]
    }
   ],
   "source": [
    "print('--training set performance--')\n",
    "train_pred = model.predict(X_train)\n",
    "print(classification_report(y_train, train_pred))\n",
    "\n",
    "print('--test set performance')\n",
    "test_pred = model.predict(X_test)\n",
    "print(classification_report(y_test, test_pred))"
   ]
  },
  {
   "cell_type": "code",
   "execution_count": 37,
   "metadata": {},
   "outputs": [
    {
     "data": {
      "image/png": "[encoded data removed]",
      "text/plain": [
       "<Figure size 504x504 with 1 Axes>"
      ]
     },
     "metadata": {
      "needs_background": "light"
     },
     "output_type": "display_data"
    }
   ],
   "source": [
    "cm = confusion_matrix(y_test, test_pred)\n",
    "\n",
    "fig, ax = plt.subplots(figsize=(7,7))\n",
    "ax.imshow(cm)\n",
    "ax.grid(False)\n",
    "ax.set_xlabel('Prediction', color='black')\n",
    "ax.set_ylabel('Actual', color='black')\n",
    "ax.xaxis.set(ticks=range(10))\n",
    "ax.yaxis.set(ticks=range(10))\n",
    "ax.set_ylim(9.5, -0.5)\n",
    "for i in range(10):\n",
    "    for j in range(10):\n",
    "        ax.text(j, i, cm[i,j], ha='center', va='center', color='white')\n",
    "plt.show()"
   ]
  },
  {
   "cell_type": "code",
   "execution_count": 39,
   "metadata": {},
   "outputs": [
    {
     "data": {
      "text/plain": [
       "(10, 64)"
      ]
     },
     "execution_count": 39,
     "metadata": {},
     "output_type": "execute_result"
    }
   ],
   "source": [
    "model.coef_.shape"
   ]
  },
  {
   "cell_type": "code",
   "execution_count": 42,
   "metadata": {},
   "outputs": [
    {
     "name": "stdout",
     "output_type": "stream",
     "text": [
      "14\n",
      "14\n",
      "14\n"
     ]
    }
   ],
   "source": [
    "# Assigning features and label variables\n",
    "\n",
    "# First Feature\n",
    "weather=['Sunny','Sunny','Overcast','Rainy','Rainy','Rainy','Overcast','Sunny','Sunny',\n",
    "'Rainy','Sunny','Overcast','Overcast','Rainy']\n",
    "print(len(weather))\n",
    "\n",
    "# Second Feature\n",
    "temp=['Hot','Hot','Hot','Mild','Cool','Cool','Cool','Mild','Cool','Mild','Mild','Mild','Hot','Mild']\n",
    "print(len(temp))\n",
    "\n",
    "# Label or target varible\n",
    "play=['No','No','Yes','Yes','Yes','No','Yes','No','Yes','Yes','Yes','Yes','Yes','No']\n",
    "print(len(play))"
   ]
  },
  {
   "cell_type": "code",
   "execution_count": 41,
   "metadata": {},
   "outputs": [],
   "source": [
    "#https://ardhiraka.com/ptp/intro/notebook/s13.html"
   ]
  },
  {
   "cell_type": "code",
   "execution_count": 44,
   "metadata": {},
   "outputs": [
    {
     "name": "stdout",
     "output_type": "stream",
     "text": [
      "[2 2 0 1 1 1 0 2 2 1 2 0 0 1]\n"
     ]
    }
   ],
   "source": [
    "encoder = LabelEncoder()\n",
    "enc_weather = encoder.fit_transform(weather)\n",
    "print(enc_weather)"
   ]
  },
  {
   "cell_type": "code",
   "execution_count": 45,
   "metadata": {},
   "outputs": [
    {
     "name": "stdout",
     "output_type": "stream",
     "text": [
      "[1 1 1 2 0 0 0 2 0 2 2 2 1 2]\n"
     ]
    }
   ],
   "source": [
    "enc_temp = encoder.fit_transform(temp)\n",
    "print(enc_temp)"
   ]
  },
  {
   "cell_type": "code",
   "execution_count": 46,
   "metadata": {},
   "outputs": [
    {
     "name": "stdout",
     "output_type": "stream",
     "text": [
      "[(2, 1), (2, 1), (0, 1), (1, 2), (1, 0), (1, 0), (0, 0), (2, 2), (2, 0), (1, 2), (2, 2), (0, 2), (0, 1), (1, 2)]\n"
     ]
    }
   ],
   "source": [
    "features = list(zip(enc_weather, enc_temp))\n",
    "print(features)"
   ]
  },
  {
   "cell_type": "code",
   "execution_count": 48,
   "metadata": {},
   "outputs": [],
   "source": [
    "label = encoder.fit_transform(play)"
   ]
  },
  {
   "cell_type": "code",
   "execution_count": 53,
   "metadata": {},
   "outputs": [
    {
     "data": {
      "text/plain": [
       "array([0, 0, 1, 1, 1, 0, 1, 0, 1, 1, 1, 1, 1, 0], dtype=int64)"
      ]
     },
     "execution_count": 53,
     "metadata": {},
     "output_type": "execute_result"
    }
   ],
   "source": [
    "label"
   ]
  },
  {
   "cell_type": "code",
   "execution_count": 49,
   "metadata": {},
   "outputs": [
    {
     "data": {
      "text/plain": [
       "KNeighborsClassifier(n_neighbors=3)"
      ]
     },
     "execution_count": 49,
     "metadata": {},
     "output_type": "execute_result"
    }
   ],
   "source": [
    "model = KNeighborsClassifier(n_neighbors=3)\n",
    "model.fit(features, label)\n"
   ]
  },
  {
   "cell_type": "code",
   "execution_count": 52,
   "metadata": {},
   "outputs": [
    {
     "name": "stdout",
     "output_type": "stream",
     "text": [
      "[1]\n"
     ]
    }
   ],
   "source": [
    "print(model.predict([[0,2]]))"
   ]
  },
  {
   "cell_type": "code",
   "execution_count": 59,
   "metadata": {},
   "outputs": [],
   "source": [
    "wine = load_wine()"
   ]
  },
  {
   "cell_type": "code",
   "execution_count": 61,
   "metadata": {},
   "outputs": [
    {
     "data": {
      "text/plain": [
       "array(['class_0', 'class_1', 'class_2'], dtype='<U7')"
      ]
     },
     "execution_count": 61,
     "metadata": {},
     "output_type": "execute_result"
    }
   ],
   "source": [
    "wine.target_names"
   ]
  },
  {
   "cell_type": "code",
   "execution_count": 63,
   "metadata": {},
   "outputs": [
    {
     "name": "stdout",
     "output_type": "stream",
     "text": [
      "training set shape: (124, 13)\n",
      "test set shape: (54, 13)\n"
     ]
    }
   ],
   "source": [
    "X_train, X_test, y_train, y_test = train_test_split(\n",
    "    wine.data, wine.target, test_size=0.3, random_state=111\n",
    ")\n",
    "\n",
    "print('training set shape:', X_train.shape)\n",
    "print('test set shape:', X_test.shape)"
   ]
  },
  {
   "cell_type": "code",
   "execution_count": 69,
   "metadata": {},
   "outputs": [
    {
     "data": {
      "image/png": "[encoded data removed]",
      "text/plain": [
       "<Figure size 864x432 with 1 Axes>"
      ]
     },
     "metadata": {
      "needs_background": "light"
     },
     "output_type": "display_data"
    },
    {
     "name": "stdout",
     "output_type": "stream",
     "text": [
      "7\n"
     ]
    }
   ],
   "source": [
    "error = []\n",
    "\n",
    "for k in range(1,40):\n",
    "    knn = KNeighborsClassifier(n_neighbors=k)\n",
    "    knn.fit(X_train, y_train)\n",
    "    pred = knn.predict(X_test)\n",
    "    err = np.mean(pred != y_test)\n",
    "    error.append(err)\n",
    "    \n",
    "plt.figure(figsize=(12,6))\n",
    "plt.plot(range(1,40), error, color='r', linestyle='dashed',\n",
    "        marker='o', markerfacecolor='blue', markersize=10)\n",
    "plt.title('Error Rate for Different X')\n",
    "plt.xlabel('k')\n",
    "plt.ylabel('error')\n",
    "plt.show()\n",
    "\n",
    "print(np.argmin(error))"
   ]
  },
  {
   "cell_type": "code",
   "execution_count": 70,
   "metadata": {},
   "outputs": [
    {
     "name": "stdout",
     "output_type": "stream",
     "text": [
      "              precision    recall  f1-score   support\n",
      "\n",
      "           0       0.94      0.94      0.94        17\n",
      "           1       0.74      0.77      0.76        22\n",
      "           2       0.64      0.60      0.62        15\n",
      "\n",
      "    accuracy                           0.78        54\n",
      "   macro avg       0.77      0.77      0.77        54\n",
      "weighted avg       0.78      0.78      0.78        54\n",
      "\n"
     ]
    }
   ],
   "source": [
    "knn = KNeighborsClassifier(n_neighbors=8)\n",
    "knn.fit(X_train, y_train)\n",
    "prediction = knn.predict(X_test)\n",
    "\n",
    "print(classification_report(y_test, prediction))"
   ]
  },
  {
   "cell_type": "code",
   "execution_count": null,
   "metadata": {},
   "outputs": [],
   "source": []
  },
  {
   "cell_type": "code",
   "execution_count": null,
   "metadata": {},
   "outputs": [],
   "source": []
  }
 ],
 "metadata": {
  "kernelspec": {
   "display_name": "Python 3",
   "language": "python",
   "name": "python3"
  },
  "language_info": {
   "codemirror_mode": {
    "name": "ipython",
    "version": 3
   },
   "file_extension": ".py",
   "mimetype": "text/x-python",
   "name": "python",
   "nbconvert_exporter": "python",
   "pygments_lexer": "ipython3",
   "version": "3.8.3"
  }
 },
 "nbformat": 4,
 "nbformat_minor": 4
}
