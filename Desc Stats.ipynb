{
 "cells": [
  {
   "cell_type": "code",
   "execution_count": 1,
   "metadata": {},
   "outputs": [],
   "source": [
    "import math\n",
    "import statistics\n",
    "\n",
    "import numpy as np\n",
    "import pandas as pd\n",
    "import scipy\n",
    "import scipy.stats"
   ]
  },
  {
   "cell_type": "code",
   "execution_count": 2,
   "metadata": {},
   "outputs": [
    {
     "name": "stdout",
     "output_type": "stream",
     "text": [
      "numpy version: 1.18.5\n",
      "scipy version: 1.5.0\n",
      "pandas version: 1.0.5\n"
     ]
    }
   ],
   "source": [
    "print('numpy version:', np.__version__)\n",
    "print('scipy version:', scipy.__version__)\n",
    "print('pandas version:', pd.__version__)"
   ]
  },
  {
   "cell_type": "code",
   "execution_count": 3,
   "metadata": {},
   "outputs": [
    {
     "name": "stdout",
     "output_type": "stream",
     "text": [
      "[8.0, 1, 2.5, 4, 28.0] 5\n",
      "[8.0, 1, 2.5, nan, 4, 28.0] 6\n"
     ]
    }
   ],
   "source": [
    "x = [8.0, 1, 2.5, 4, 28.]\n",
    "x_with_nan = [8., 1, 2.5, math.nan, 4, 28.]\n",
    "print(x, len(x))\n",
    "print(x_with_nan, len(x_with_nan))"
   ]
  },
  {
   "cell_type": "code",
   "execution_count": 4,
   "metadata": {},
   "outputs": [
    {
     "name": "stdout",
     "output_type": "stream",
     "text": [
      "[ 8.   1.   2.5  4.  28. ]\n",
      "[ 8.   1.   2.5  nan  4.  28. ]\n",
      "0     8.0\n",
      "1     1.0\n",
      "2     2.5\n",
      "3     4.0\n",
      "4    28.0\n",
      "dtype: float64\n",
      "0     8.0\n",
      "1     1.0\n",
      "2     2.5\n",
      "3     NaN\n",
      "4     4.0\n",
      "5    28.0\n",
      "dtype: float64\n"
     ]
    }
   ],
   "source": [
    "y, y_with_nan = np.array(x), np.array(x_with_nan)\n",
    "z, z_with_nan = pd.Series(x), pd.Series(x_with_nan)\n",
    "print(y)\n",
    "print(y_with_nan)\n",
    "print(z)\n",
    "print(z_with_nan)"
   ]
  },
  {
   "cell_type": "markdown",
   "metadata": {},
   "source": [
    "## Measure of Central Tendency"
   ]
  },
  {
   "cell_type": "markdown",
   "metadata": {},
   "source": [
    "### Mean"
   ]
  },
  {
   "cell_type": "code",
   "execution_count": 5,
   "metadata": {},
   "outputs": [
    {
     "name": "stdout",
     "output_type": "stream",
     "text": [
      "x: [8.0, 1, 2.5, 4, 28.0]\n",
      "mean native: 8.7\n",
      "mean statistics: 8.7\n"
     ]
    }
   ],
   "source": [
    "print('x:', x)\n",
    "mean_native = sum(x)/len(x)\n",
    "print('mean native:', mean_native)\n",
    "mean_stats = statistics.mean(x)\n",
    "print('mean statistics:', mean_stats)"
   ]
  },
  {
   "cell_type": "code",
   "execution_count": 6,
   "metadata": {},
   "outputs": [
    {
     "name": "stdout",
     "output_type": "stream",
     "text": [
      "x with nan: [8.0, 1, 2.5, nan, 4, 28.0]\n",
      "mean with nan native: nan\n",
      "mean with nan statistics: nan\n",
      "mean with nan numpy: 8.7\n"
     ]
    }
   ],
   "source": [
    "print('x with nan:', x_with_nan)\n",
    "mean_with_nan_native = sum(x_with_nan)/len(x_with_nan)\n",
    "print('mean with nan native:', mean_with_nan_native)\n",
    "mean_with_nan_stats = statistics.mean(x_with_nan)\n",
    "print('mean with nan statistics:', mean_with_nan_stats)\n",
    "mean_with_nan_np = np.mean(y) #y_with_nan.mean()\n",
    "print('mean with nan numpy:', mean_with_nan_np)"
   ]
  },
  {
   "cell_type": "code",
   "execution_count": 7,
   "metadata": {},
   "outputs": [
    {
     "name": "stdout",
     "output_type": "stream",
     "text": [
      "mean ignoring nan np: 8.7\n"
     ]
    }
   ],
   "source": [
    "#mean menghiraukan nan\n",
    "mean_ignoring_nan_np = np.nanmean(x_with_nan)\n",
    "print('mean ignoring nan np:', mean_ignoring_nan_np)"
   ]
  },
  {
   "cell_type": "code",
   "execution_count": 8,
   "metadata": {},
   "outputs": [
    {
     "data": {
      "text/plain": [
       "(8.7, nan)"
      ]
     },
     "execution_count": 8,
     "metadata": {},
     "output_type": "execute_result"
    }
   ],
   "source": [
    "z_with_nan.mean(), z_with_nan.mean(skipna=False)"
   ]
  },
  {
   "cell_type": "code",
   "execution_count": 9,
   "metadata": {},
   "outputs": [
    {
     "name": "stdout",
     "output_type": "stream",
     "text": [
      "[2, 2, 4, 4, 4, 4, 4, 8, 8, 8] 10\n",
      "mean: 4.8\n",
      "weighted mean: 4.8\n"
     ]
    }
   ],
   "source": [
    "#weighted mean\n",
    "arr = [2,2,4,4,4,4,4,8,8,8]\n",
    "print(arr, len(arr))\n",
    "print('mean:', np.mean(arr))\n",
    "print('weighted mean:', 0.2*2 + 0.5*4 + 0.3*8)"
   ]
  },
  {
   "cell_type": "code",
   "execution_count": 10,
   "metadata": {},
   "outputs": [
    {
     "name": "stdout",
     "output_type": "stream",
     "text": [
      "sum of the weight: 0.8500000000000001\n",
      "weighted mean: 3.2352941176470584\n"
     ]
    }
   ],
   "source": [
    "arr_x = [8., 1, 2.5, 4]\n",
    "arr_w = [.1, .2, .3, .25]\n",
    "print('sum of the weight:', sum(arr_w))\n",
    "\n",
    "print(\n",
    "    'weighted mean:',\n",
    "    sum(w*x for x, w in zip(arr_x, arr_w))/sum(arr_w)        \n",
    ")"
   ]
  },
  {
   "cell_type": "code",
   "execution_count": 11,
   "metadata": {},
   "outputs": [
    {
     "data": {
      "text/plain": [
       "3.2352941176470584"
      ]
     },
     "execution_count": 11,
     "metadata": {},
     "output_type": "execute_result"
    }
   ],
   "source": [
    "np_x, np_w = np.array(arr_x), np.array(arr_w)\n",
    "np.average(np_x, weights=np_w)"
   ]
  },
  {
   "cell_type": "code",
   "execution_count": 12,
   "metadata": {},
   "outputs": [],
   "source": [
    "#harmonic mean\n",
    "x += [100]"
   ]
  },
  {
   "cell_type": "code",
   "execution_count": 13,
   "metadata": {},
   "outputs": [
    {
     "name": "stdout",
     "output_type": "stream",
     "text": [
      "[8.0, 1, 2.5, 4, 28.0, 100]\n",
      "arithmetic mean: 23.916666666666668\n",
      "harmonic mean: 3.2954099646920363\n"
     ]
    }
   ],
   "source": [
    "print(x)\n",
    "print('arithmetic mean:', sum(x)/len(x))\n",
    "print('harmonic mean:', len(x)/sum(1/i for i in x))\n"
   ]
  },
  {
   "cell_type": "code",
   "execution_count": 14,
   "metadata": {},
   "outputs": [
    {
     "data": {
      "text/plain": [
       "3.2954099646920363"
      ]
     },
     "execution_count": 14,
     "metadata": {},
     "output_type": "execute_result"
    }
   ],
   "source": [
    "scipy.stats.hmean(x)"
   ]
  },
  {
   "cell_type": "code",
   "execution_count": 15,
   "metadata": {},
   "outputs": [
    {
     "name": "stdout",
     "output_type": "stream",
     "text": [
      "7.793059696775923\n",
      "7.7930596967759245\n"
     ]
    }
   ],
   "source": [
    "#geometric mean\n",
    "gmean = 1\n",
    "\n",
    "for item in x:\n",
    "    gmean *= item\n",
    "    \n",
    "gmean = gmean**(1/len(x)) #** = ^\n",
    "print(gmean)\n",
    "print(scipy.stats.gmean(x))"
   ]
  },
  {
   "cell_type": "markdown",
   "metadata": {},
   "source": [
    "### Median"
   ]
  },
  {
   "cell_type": "code",
   "execution_count": 16,
   "metadata": {},
   "outputs": [],
   "source": [
    "x += [100]"
   ]
  },
  {
   "cell_type": "code",
   "execution_count": 17,
   "metadata": {},
   "outputs": [
    {
     "name": "stdout",
     "output_type": "stream",
     "text": [
      "[8.0, 1, 2.5, 4, 28.0, 100, 100] 7 [1, 2.5, 4, 8.0, 28.0, 100, 100]\n",
      "median np: 8.0\n",
      "median native: 8.0\n"
     ]
    }
   ],
   "source": [
    "print(x, len(x), sorted(x))\n",
    "print('median np:', np.median(x))\n",
    "\n",
    "if len(x) %2:\n",
    "    med = sorted(x)[round(0.5*(len(x)-1))]\n",
    "else:\n",
    "    ordered_x, index = sorted(x), round(0.5 *len(x))\n",
    "    med = 0.5 * (ordered_x[index-1]+ ordered_x[index])\n",
    "print('median native:', med)\n",
    "    "
   ]
  },
  {
   "cell_type": "code",
   "execution_count": 18,
   "metadata": {},
   "outputs": [
    {
     "data": {
      "text/plain": [
       "(8.0, 8.0, 8.0)"
      ]
     },
     "execution_count": 18,
     "metadata": {},
     "output_type": "execute_result"
    }
   ],
   "source": [
    "#pas di tengah\n",
    "statistics.median(x), statistics.median_high(x), statistics.median_low(x)"
   ]
  },
  {
   "cell_type": "code",
   "execution_count": 19,
   "metadata": {},
   "outputs": [
    {
     "data": {
      "text/plain": [
       "([1, 2.5, 4, 8.0, nan, 28.0], 6.0, 4, 8.0)"
      ]
     },
     "execution_count": 19,
     "metadata": {},
     "output_type": "execute_result"
    }
   ],
   "source": [
    "sorted(x_with_nan), statistics.median(x_with_nan), statistics.median_low(x_with_nan), statistics.median_high(x_with_nan)"
   ]
  },
  {
   "cell_type": "code",
   "execution_count": 20,
   "metadata": {},
   "outputs": [
    {
     "name": "stdout",
     "output_type": "stream",
     "text": [
      "0     8.0\n",
      "1     1.0\n",
      "2     2.5\n",
      "3     4.0\n",
      "4    28.0\n",
      "dtype: float64\n",
      "4.0\n",
      "1     1.0\n",
      "2     2.5\n",
      "4     4.0\n",
      "0     8.0\n",
      "5    28.0\n",
      "3     NaN\n",
      "dtype: float64\n",
      "8.7\n"
     ]
    }
   ],
   "source": [
    "print(z)\n",
    "print(z.median())\n",
    "print(z_with_nan.sort_values())\n",
    "print(z_with_nan.mean())"
   ]
  },
  {
   "cell_type": "code",
   "execution_count": 21,
   "metadata": {},
   "outputs": [],
   "source": [
    "### Mode"
   ]
  },
  {
   "cell_type": "code",
   "execution_count": 22,
   "metadata": {},
   "outputs": [],
   "source": [
    "x += [1000, 1000]"
   ]
  },
  {
   "cell_type": "code",
   "execution_count": 23,
   "metadata": {},
   "outputs": [
    {
     "name": "stdout",
     "output_type": "stream",
     "text": [
      "[8.0, 1, 2.5, 4, 28.0, 100, 100, 1000, 1000]\n",
      "[1, 1, 1, 1, 1, 2, 2, 2, 2]\n"
     ]
    }
   ],
   "source": [
    "print(x)\n",
    "print([x.count(i) for i in x])"
   ]
  },
  {
   "cell_type": "code",
   "execution_count": 24,
   "metadata": {},
   "outputs": [
    {
     "name": "stdout",
     "output_type": "stream",
     "text": [
      "[100.] [2]\n"
     ]
    }
   ],
   "source": [
    "mode_ = scipy.stats.mode(x)\n",
    "print(mode_.mode, mode_.count)"
   ]
  },
  {
   "cell_type": "code",
   "execution_count": 25,
   "metadata": {},
   "outputs": [
    {
     "data": {
      "text/plain": [
       "0     100.0\n",
       "1    1000.0\n",
       "dtype: float64"
      ]
     },
     "execution_count": 25,
     "metadata": {},
     "output_type": "execute_result"
    }
   ],
   "source": [
    "series_x = pd.Series(x)\n",
    "series_x.mode()"
   ]
  },
  {
   "cell_type": "code",
   "execution_count": 26,
   "metadata": {},
   "outputs": [
    {
     "name": "stdout",
     "output_type": "stream",
     "text": [
      "0     8.0\n",
      "1     1.0\n",
      "2     2.5\n",
      "3     4.0\n",
      "4    28.0\n",
      "dtype: float64\n",
      "0     1.0\n",
      "1     2.5\n",
      "2     4.0\n",
      "3     8.0\n",
      "4    28.0\n",
      "dtype: float64\n"
     ]
    }
   ],
   "source": [
    "print(z)\n",
    "print(z.mode())"
   ]
  },
  {
   "cell_type": "code",
   "execution_count": 27,
   "metadata": {},
   "outputs": [
    {
     "data": {
      "text/plain": [
       "0     1.0\n",
       "1     2.5\n",
       "2     4.0\n",
       "3     8.0\n",
       "4    28.0\n",
       "dtype: float64"
      ]
     },
     "execution_count": 27,
     "metadata": {},
     "output_type": "execute_result"
    }
   ],
   "source": [
    "z.mode()"
   ]
  },
  {
   "cell_type": "markdown",
   "metadata": {},
   "source": [
    "### Variance"
   ]
  },
  {
   "cell_type": "code",
   "execution_count": 28,
   "metadata": {},
   "outputs": [],
   "source": [
    "#markdown sc M, code Y"
   ]
  },
  {
   "cell_type": "code",
   "execution_count": 29,
   "metadata": {},
   "outputs": [
    {
     "data": {
      "text/plain": [
       "[8.0, 1, 2.5, 4, 28.0, 100, 100, 1000, 1000]"
      ]
     },
     "execution_count": 29,
     "metadata": {},
     "output_type": "execute_result"
    }
   ],
   "source": [
    "x\n"
   ]
  },
  {
   "cell_type": "code",
   "execution_count": 30,
   "metadata": {},
   "outputs": [
    {
     "name": "stdout",
     "output_type": "stream",
     "text": [
      "249.27777777777777\n",
      "182702.06944444444\n",
      "182702.06944444444\n",
      "182702.06944444444\n",
      "182702.06944444444\n"
     ]
    }
   ],
   "source": [
    "n = len(x)\n",
    "mean_x = sum(x) / len(x)\n",
    "print(mean_x)\n",
    "variance_x = sum((point-mean_x)**2 for point in x) / (n-1)\n",
    "print(variance_x)\n",
    "print(statistics.variance(x))\n",
    "print(np.var(np.array(x), ddof=1))\n",
    "print(series_x.var())"
   ]
  },
  {
   "cell_type": "markdown",
   "metadata": {},
   "source": [
    "### Standard Deviation"
   ]
  },
  {
   "cell_type": "code",
   "execution_count": 31,
   "metadata": {},
   "outputs": [
    {
     "name": "stdout",
     "output_type": "stream",
     "text": [
      "std_native: 427.4366262318245\n",
      "std np: 427.4366262318245\n",
      "std statistics: 427.4366262318245\n",
      "std pandas series: 427.4366262318245\n",
      "std scipy: 427.4366262318245\n"
     ]
    },
    {
     "name": "stderr",
     "output_type": "stream",
     "text": [
      "<ipython-input-31-a5747be6d9d7>:5: DeprecationWarning: scipy.std is deprecated and will be removed in SciPy 2.0.0, use numpy.std instead\n",
      "  print('std scipy:', scipy.std(x, ddof=1))\n"
     ]
    }
   ],
   "source": [
    "print('std_native:', variance_x**0.5)\n",
    "print('std np:', np.std(x, ddof=1))\n",
    "print('std statistics:', statistics.stdev(x))\n",
    "print('std pandas series:', series_x.std())\n",
    "print('std scipy:', scipy.std(x, ddof=1))"
   ]
  },
  {
   "cell_type": "markdown",
   "metadata": {},
   "source": [
    "### Skewness"
   ]
  },
  {
   "cell_type": "code",
   "execution_count": 32,
   "metadata": {},
   "outputs": [
    {
     "name": "stdout",
     "output_type": "stream",
     "text": [
      "[8.0, 1, 2.5, 4, 28.0, 100, 100, 1000, 1000]\n",
      "1.5837470893089505\n",
      "1.5837470893089503\n",
      "1.583747089308951\n"
     ]
    }
   ],
   "source": [
    "print(x)\n",
    "n = len (x)\n",
    "mean_x = sum(x)/n\n",
    "variance_x = sum((point-mean_x)**2 for point in x)/(n-1)\n",
    "std_x = variance_x**0.5\n",
    "\n",
    "skew_x = sum((item-mean_x)**3 for item in x)*n / ((n-1)*(n-2)*std_x**3)\n",
    "print(skew_x)\n",
    "print(scipy.stats.skew(x, bias=False))\n",
    "print(series_x.skew())"
   ]
  },
  {
   "cell_type": "markdown",
   "metadata": {},
   "source": [
    "### Percentiles"
   ]
  },
  {
   "cell_type": "code",
   "execution_count": 33,
   "metadata": {},
   "outputs": [
    {
     "name": "stdout",
     "output_type": "stream",
     "text": [
      "[8.0, 1, 2.5, 4, 28.0, 100, 100, 1000, 1000]\n",
      "[4.0, 28.0, 100.0]\n",
      "[  4.  28. 100.]\n",
      "4.0\n",
      "[  4.  28. 100.]\n",
      "28.0\n"
     ]
    }
   ],
   "source": [
    "print(x)\n",
    "print(statistics.quantiles(x, n=4, method='inclusive'))\n",
    "print(np.percentile(x, [25,50,75]))\n",
    "print(np.percentile(x, 25))\n",
    "print(np.quantile(x, [0.25, .5, 0.75]))\n",
    "print(np.median(x))"
   ]
  },
  {
   "cell_type": "code",
   "execution_count": 34,
   "metadata": {},
   "outputs": [
    {
     "name": "stdout",
     "output_type": "stream",
     "text": [
      "Python 3.8.3\n"
     ]
    }
   ],
   "source": [
    "!python --version"
   ]
  },
  {
   "cell_type": "code",
   "execution_count": 35,
   "metadata": {},
   "outputs": [
    {
     "name": "stdout",
     "output_type": "stream",
     "text": [
      "[8.0, 1, 2.5, nan, 4, 28.0]\n",
      "4.0 4.0\n",
      "4.0\n"
     ]
    }
   ],
   "source": [
    "print(x_with_nan)\n",
    "print(np.nanpercentile(x_with_nan, 50), np.nanmedian(x_with_nan))\n",
    "print(np.nanquantile(x_with_nan, 0.5))"
   ]
  },
  {
   "cell_type": "code",
   "execution_count": 36,
   "metadata": {},
   "outputs": [
    {
     "name": "stdout",
     "output_type": "stream",
     "text": [
      "4.0 100.0 96.0\n"
     ]
    }
   ],
   "source": [
    "q1 = np.quantile(x, .25)\n",
    "q3 = np.quantile(x, .75)\n",
    "interquantile=q3-q1\n",
    "print(q1,q3,interquantile)"
   ]
  },
  {
   "cell_type": "markdown",
   "metadata": {},
   "source": [
    "### Covariance"
   ]
  },
  {
   "cell_type": "code",
   "execution_count": 37,
   "metadata": {},
   "outputs": [
    {
     "name": "stdout",
     "output_type": "stream",
     "text": [
      "[-10, -9, -8, -7, -6, -5, -4, -3, -2, -1, 0, 1, 2, 3, 4, 5, 6, 7, 8, 9, 10]\n",
      "[0, 2, 2, 2, 2, 3, 3, 6, 7, 4, 7, 6, 6, 9, 4, 5, 5, 10, 11, 12, 14]\n",
      "21 21\n",
      "[-10  -9  -8  -7  -6  -5  -4  -3  -2  -1   0   1   2   3   4   5   6   7\n",
      "   8   9  10]\n",
      "0    -10\n",
      "1     -9\n",
      "2     -8\n",
      "3     -7\n",
      "4     -6\n",
      "5     -5\n",
      "6     -4\n",
      "7     -3\n",
      "8     -2\n",
      "9     -1\n",
      "10     0\n",
      "11     1\n",
      "12     2\n",
      "13     3\n",
      "14     4\n",
      "15     5\n",
      "16     6\n",
      "17     7\n",
      "18     8\n",
      "19     9\n",
      "20    10\n",
      "dtype: int64\n"
     ]
    }
   ],
   "source": [
    "x= list(range(-10, 11))\n",
    "print(x)\n",
    "y = [0,2,2,2,2,3,3,6,7,4,7,6,6,9,4,5,5,10,11,12,14]\n",
    "print(y)\n",
    "print(len(x), len(y))\n",
    "np_x, np_y = np.array(x), np.array(y)\n",
    "s_x, s_y = pd.Series(x), pd.Series(y)\n",
    "print(np_x)\n",
    "print(s_x)"
   ]
  },
  {
   "cell_type": "code",
   "execution_count": 40,
   "metadata": {},
   "outputs": [
    {
     "name": "stdout",
     "output_type": "stream",
     "text": [
      "mean x: 0.0.. mean y: 5.714285714285714\n",
      "covariance x-y: 19.95\n"
     ]
    }
   ],
   "source": [
    "#covariance using native python\n",
    "n =len(x)\n",
    "mean_x, mean_y = sum(x)/n, sum(y)/n\n",
    "cov_xy = (\n",
    "            sum((x[i]-mean_x)*(y[i]-mean_y) \n",
    "            for i in range(n)\n",
    "            )/(n-1)\n",
    ")\n",
    "print('mean x: {}.. mean y: {}'.format(mean_x, mean_y))\n",
    "print('covariance x-y: {}'.format(cov_xy))"
   ]
  },
  {
   "cell_type": "code",
   "execution_count": 41,
   "metadata": {},
   "outputs": [
    {
     "data": {
      "text/plain": [
       "array([[38.5       , 19.95      ],\n",
       "       [19.95      , 13.91428571]])"
      ]
     },
     "execution_count": 41,
     "metadata": {},
     "output_type": "execute_result"
    }
   ],
   "source": [
    "#covariance in numpy\n",
    "npcov_xy = np.cov(np_x, np_y)\n",
    "npcov_xy"
   ]
  },
  {
   "cell_type": "code",
   "execution_count": 42,
   "metadata": {},
   "outputs": [
    {
     "name": "stdout",
     "output_type": "stream",
     "text": [
      "38.5 13.914285714285711\n"
     ]
    }
   ],
   "source": [
    "#variance using .var method in numpy\n",
    "print(np_x.var(ddof=1), np_y.var(ddof=1))"
   ]
  },
  {
   "cell_type": "code",
   "execution_count": 43,
   "metadata": {},
   "outputs": [
    {
     "data": {
      "text/plain": [
       "(19.95, 19.95)"
      ]
     },
     "execution_count": 43,
     "metadata": {},
     "output_type": "execute_result"
    }
   ],
   "source": [
    "#covariance using .cov method in panda series\n",
    "s_x.cov(s_y), s_y.cov(s_x)"
   ]
  },
  {
   "cell_type": "markdown",
   "metadata": {},
   "source": [
    "### Correlation"
   ]
  },
  {
   "cell_type": "code",
   "execution_count": 44,
   "metadata": {},
   "outputs": [
    {
     "name": "stdout",
     "output_type": "stream",
     "text": [
      "pearson correlation coefficient: 0.861950005631606\n"
     ]
    }
   ],
   "source": [
    "std_x = (\n",
    "    sum((item - mean_x)**2 for item in x)/(n-1)\n",
    ")** .5\n",
    "std_y = (\n",
    "    sum((item - mean_y)**2 for item in y)/(n-1)\n",
    ")** .5\n",
    "r = cov_xy / (std_x*std_y)\n",
    "print('pearson correlation coefficient:', r)"
   ]
  },
  {
   "cell_type": "code",
   "execution_count": 45,
   "metadata": {},
   "outputs": [
    {
     "name": "stdout",
     "output_type": "stream",
     "text": [
      "[-10  -9  -8  -7  -6  -5  -4  -3  -2  -1   0   1   2   3   4   5   6   7\n",
      "   8   9  10]\n",
      "[ 0  2  2  2  2  3  3  6  7  4  7  6  6  9  4  5  5 10 11 12 14]\n"
     ]
    }
   ],
   "source": [
    "print(np_x)\n",
    "print(np_y)"
   ]
  },
  {
   "cell_type": "code",
   "execution_count": 46,
   "metadata": {},
   "outputs": [
    {
     "data": {
      "text/plain": [
       "array([[1.        , 0.86195001],\n",
       "       [0.86195001, 1.        ]])"
      ]
     },
     "execution_count": 46,
     "metadata": {},
     "output_type": "execute_result"
    }
   ],
   "source": [
    "#correlation using numpy\n",
    "np.corrcoef(np_x, np_y)"
   ]
  },
  {
   "cell_type": "code",
   "execution_count": null,
   "metadata": {},
   "outputs": [],
   "source": []
  },
  {
   "cell_type": "code",
   "execution_count": null,
   "metadata": {},
   "outputs": [],
   "source": []
  },
  {
   "cell_type": "code",
   "execution_count": null,
   "metadata": {},
   "outputs": [],
   "source": []
  },
  {
   "cell_type": "code",
   "execution_count": null,
   "metadata": {},
   "outputs": [],
   "source": []
  },
  {
   "cell_type": "code",
   "execution_count": null,
   "metadata": {},
   "outputs": [],
   "source": []
  },
  {
   "cell_type": "code",
   "execution_count": null,
   "metadata": {},
   "outputs": [],
   "source": []
  },
  {
   "cell_type": "code",
   "execution_count": null,
   "metadata": {},
   "outputs": [],
   "source": []
  },
  {
   "cell_type": "code",
   "execution_count": null,
   "metadata": {},
   "outputs": [],
   "source": []
  }
 ],
 "metadata": {
  "kernelspec": {
   "display_name": "Python 3",
   "language": "python",
   "name": "python3"
  },
  "language_info": {
   "codemirror_mode": {
    "name": "ipython",
    "version": 3
   },
   "file_extension": ".py",
   "mimetype": "text/x-python",
   "name": "python",
   "nbconvert_exporter": "python",
   "pygments_lexer": "ipython3",
   "version": "3.8.3"
  }
 },
 "nbformat": 4,
 "nbformat_minor": 4
}
